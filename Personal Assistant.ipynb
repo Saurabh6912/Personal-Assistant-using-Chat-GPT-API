{
 "cells": [
  {
   "cell_type": "code",
   "execution_count": 1,
   "id": "f5a114e4",
   "metadata": {},
   "outputs": [],
   "source": [
    "api = open(\"API_key.txt\", \"r\") \n",
    "api = api.read()"
   ]
  },
  {
   "cell_type": "code",
   "execution_count": 2,
   "id": "4cdbd22e",
   "metadata": {},
   "outputs": [],
   "source": [
    "import openai\n",
    "\n",
    "openai.api_key = api"
   ]
  },
  {
   "cell_type": "code",
   "execution_count": 16,
   "id": "5ba2e564",
   "metadata": {
    "scrolled": false
   },
   "outputs": [
    {
     "name": "stdout",
     "output_type": "stream",
     "text": [
      "Running on local URL:  http://127.0.0.1:7870\n",
      "Running on public URL: https://6199b653bd4ae83daf.gradio.live\n",
      "\n",
      "This share link expires in 72 hours. For free permanent hosting and GPU upgrades, run `gradio deploy` from Terminal to deploy to Spaces (https://huggingface.co/spaces)\n"
     ]
    },
    {
     "data": {
      "text/html": [
       "<div><iframe src=\"https://6199b653bd4ae83daf.gradio.live\" width=\"100%\" height=\"500\" allow=\"autoplay; camera; microphone; clipboard-read; clipboard-write;\" frameborder=\"0\" allowfullscreen></iframe></div>"
      ],
      "text/plain": [
       "<IPython.core.display.HTML object>"
      ]
     },
     "metadata": {},
     "output_type": "display_data"
    },
    {
     "data": {
      "text/plain": []
     },
     "execution_count": 16,
     "metadata": {},
     "output_type": "execute_result"
    }
   ],
   "source": [
    "import gradio\n",
    "\n",
    "messages = []\n",
    "\n",
    "def CustomChatGPT(Assistant_type,Your_question):\n",
    "    system_msg = f\"You are a {Assistant_type} assistant\"\n",
    "    Your_question = f\"{Your_question}, write in brief and sort\"\n",
    "    messages.append({\"role\": \"system\", \"content\": system_msg})\n",
    "    messages.append({\"role\": \"user\", \"content\": Your_question})\n",
    "    response = openai.ChatCompletion.create(\n",
    "        model = \"gpt-3.5-turbo\",\n",
    "        messages = messages\n",
    "    )\n",
    "    ChatGPT_reply = response[\"choices\"][0][\"message\"][\"content\"]\n",
    "    messages.append({\"role\": \"assistant\", \"content\": ChatGPT_reply})\n",
    "    return ChatGPT_reply\n",
    "\n",
    "demo = gradio.Interface(fn=CustomChatGPT, inputs = [\"text\",\"text\"], outputs = \"text\", title = \"Personal Assistant\",\n",
    "                        description='''Please keep petience if input will not be specific, it may possible that i take some time.\n",
    "                                    \n",
    "    What type of Assistant would you like to create? Write in Assistant type\n",
    "         for eg. financial expert in banking,helth care assitant etc.\n",
    "                You can continuously ask to Assistant.\n",
    "                            Thank You''',\n",
    "                        theme='freddyaboulton/dracula_revamped')\n",
    "\n",
    "demo.launch(share=True)"
   ]
  },
  {
   "cell_type": "code",
   "execution_count": null,
   "id": "6832189f",
   "metadata": {},
   "outputs": [],
   "source": []
  }
 ],
 "metadata": {
  "kernelspec": {
   "display_name": "Python 3 (ipykernel)",
   "language": "python",
   "name": "python3"
  },
  "language_info": {
   "codemirror_mode": {
    "name": "ipython",
    "version": 3
   },
   "file_extension": ".py",
   "mimetype": "text/x-python",
   "name": "python",
   "nbconvert_exporter": "python",
   "pygments_lexer": "ipython3",
   "version": "3.9.13"
  }
 },
 "nbformat": 4,
 "nbformat_minor": 5
}
